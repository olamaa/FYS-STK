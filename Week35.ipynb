{
 "cells": [
  {
   "cell_type": "markdown",
   "metadata": {},
   "source": [
    "<b>Exercise 1a)</b> <br/>\n",
    "We have the expression $f(x) = \\mathbf{a^Tx}$ where $a$ and $x$ are column vectors of length $n$. $f(x)$ is therefore a scalar.<br/>\n",
    "$x$ has dimensions (n, 1)<br/>\n",
    "The result (gradient) inherit transposed $x$ dimentions, (1, n)\n"
   ]
  },
  {
   "cell_type": "markdown",
   "metadata": {},
   "source": [
    "<b>Exercise 1b)</b> <br/>\n",
    "We write $\\mathbf{a^Tx} = \\sum_{j=0}^{n-1}a_{j}x_j$. The partial derivative with respect to $x_i$ is\n",
    "$$\\frac{\\partial}{\\partial x_i} \\left(\\sum_{j=0}^{n-1} a_jx_j\\right) = a_i$$\n",
    "Since only the $i = j$ term contributes, this holds for all components $i$, so the gradient is ($a_1, a_2, ..., a_n$) which is $\\mathbf{a}^T$."
   ]
  },
  {
   "cell_type": "markdown",
   "metadata": {},
   "source": [
    "<b>Exercise 1c)</b> <br/>\n",
    "$\\mathbf{a^TAa} = \\sum_{j=0}^{n-1} \\sum_{i=0}^{n-1} a_jA_{ij}a_i$<br/>\n",
    "For $i=k$: $A_{kj}a_j$ contributes<br/>\n",
    "For $j=k$: $a_iA_{ik}$ contributes<br/>\n",
    "Taking $\\frac{\\partial}{\\partial a_k}$, we get<br/>\n",
    "$$\\frac{\\partial}{\\partial a_k}\\left(\\mathbf{a^TAa}\\right) = \\sum_{j=0}^{n-1}A_{kj}a_j + \\sum_{i=0}^{n-1}a_iA_{ik}$$\n",
    "The first sum is the $k$ th component of $(\\mathbf{A}\\boldsymbol{a})$, and the second sum is the $k$ th component of $(\\boldsymbol{a}^T \\mathbf{A})^T = (\\mathbf{A}^T \\boldsymbol{a})$.\n",
    "$$\\left(\\mathbf{Aa}\\right)^T + \\left(\\mathbf{A}^T\\mathbf{a}\\right)^T = \\mathbf{a}^T\\mathbf{A}^T + \\mathbf{a}^T\\mathbf{A} = \\mathbf{a}^T\\left(\\mathbf{A}+\\mathbf{A}^T\\right)$$"
   ]
  },
  {
   "cell_type": "markdown",
   "metadata": {},
   "source": [
    "<b>Exercise 2a)</b><br/>\n",
    "Taking the derivative of the error with respect to $\\boldsymbol{\\theta}$ and setting it to zero finds the minimum because we are dealing with a convex quadratic cost function. The squared error $||\\mathbf{y} - \\mathbf{X}\\boldsymbol{\\theta}||^2$ has a single global minimum. Setting the gradient to zero gives the critical point, which for a convex function is the global minimum. In short, solving $\\nabla_{\\theta} ||y - X\\theta||^2 = 0$ gives the $\\boldsymbol{\\theta}$ that minimizes the error."
   ]
  },
  {
   "cell_type": "markdown",
   "metadata": {},
   "source": [
    "<b>Exercise 2b)</b><br/>\n",
    "If $\\mathbf{X}$ is square and invertible, the optimal solution is the one that gives zero error by exactly solving $\\mathbf{X}\\boldsymbol{\\theta} = \\mathbf{y}$. In that case, we can multiply both sides by $\\mathbf{X}^{-1}$ to get\n",
    "$$\\boldsymbol{\\theta} = \\mathbf{X}^{-1}\\mathbf{y}$$"
   ]
  },
  {
   "cell_type": "markdown",
   "metadata": {},
   "source": [
    "<b>Exercise 2c)</b><br/>\n",
    "$$f(s) = \\left( \\mathbf{x}-\\mathbf{As}\\right)^T\\left(\\mathbf{x}-\\mathbf{As}\\right)$$\n",
    "We differentiate $f(s)$ with respect to $\\boldsymbol{s}$. This expression is the squared norm of the error vector $\\boldsymbol{e} = \\boldsymbol{x} - \\mathbf{A}\\boldsymbol{s}$.<br/>\n",
    "$$\\frac{\\partial}{\\partial s}\\left(\\mathbf{e}^T\\mathbf{e}\\right) = 2\\mathbf{e}^T\\frac{\\partial e}{\\partial s}$$\n",
    "Here $\\boldsymbol{e} = \\boldsymbol{x} - \\mathbf{A}\\boldsymbol{s}$, so $\\frac{\\partial \\boldsymbol{e}}{\\partial \\boldsymbol{s}} = -\\mathbf{A}$\n",
    "$$\\frac{\\partial}{\\partial s}\\left(\\mathbf{e}^T\\mathbf{e}\\right) = 2\\mathbf{e}^T\\left(-\\mathbf{A}\\right) = -2\\left(\\mathbf{x} - \\mathbf{As}\\right)^T\\mathbf{A}$$"
   ]
  },
  {
   "cell_type": "markdown",
   "metadata": {},
   "source": [
    "<b>Exercise 2d)</b><br/>\n",
    "In OLS, the error vector is $\\boldsymbol{y} - \\mathbf{X}\\boldsymbol{\\theta}$. Using the formula above, and substituting $\\mathbf{x}= \\mathbf{y}$, $\\mathbf{A}= \\mathbf{X}$ and $\\mathbf{s}= \\mathbf{\\theta}$, we get\n",
    "$$-2\\left(\\mathbf{y} - \\mathbf{X\\theta}\\right)^T\\mathbf{X}.$$\n",
    "Optimizing this gives\n",
    "$$\\left(\\mathbf{y} - \\mathbf{X\\theta}\\right)^T\\mathbf{X} = 0^T$$\n",
    "$$\\mathbf{X}^T\\left(\\mathbf{y} - \\mathbf{X\\theta}\\right) = 0$$\n",
    "$$\\mathbf{X}^T\\mathbf{y} - \\mathbf{X}^T\\mathbf{X\\theta} = 0$$\n",
    "$$\\mathbf{X}^T\\mathbf{y} = \\mathbf{X}^T\\mathbf{X\\theta}$$\n",
    "Assuming $\\mathbf{X}^T \\mathbf{X}$ is invertible, we multiply by $(\\mathbf{X}^T\\mathbf{X})^{-1}$ to get\n",
    "$$\\theta = (\\mathbf{X}^T\\mathbf{X})^{-1}\\mathbf{X}^T\\mathbf{y}$$"
   ]
  },
  {
   "cell_type": "markdown",
   "metadata": {},
   "source": [
    "<b>Exercise 3a)</b><br/>"
   ]
  },
  {
   "cell_type": "code",
   "execution_count": 498,
   "metadata": {},
   "outputs": [],
   "source": [
    "import numpy as np"
   ]
  },
  {
   "cell_type": "code",
   "execution_count": 499,
   "metadata": {},
   "outputs": [],
   "source": [
    "n = 20\n",
    "income = np.array([116., 161., 167., 118., 172., 163., 179., 173., 162., \n",
    "                   116., 101., 176., 178., 172., 143., 135., 160., 101., 149., 125.])\n",
    "children = np.array([5, 3, 0, 4, 5, 3, 0, 4, 4, 3, 3, 5, 1, 0, 2, 3, 2, 1, 5, 4])\n",
    "spending = np.array([152., 141., 102., 136., 161., 129.,  99., 159., 160., \n",
    "                     107.,  98., 164., 121.,  93., 112., 127., 117.,  69., 156., 131.])"
   ]
  },
  {
   "cell_type": "code",
   "execution_count": 500,
   "metadata": {},
   "outputs": [],
   "source": [
    "X = np.zeros((n, 3))\n",
    "X[:, 0] = 1\n",
    "X[:, 1] = income\n",
    "X[:, 2] = children"
   ]
  },
  {
   "cell_type": "code",
   "execution_count": 501,
   "metadata": {},
   "outputs": [
    {
     "name": "stdout",
     "output_type": "stream",
     "text": [
      "Controlling the feature matrix X:\n",
      "[[  1. 116.   5.]\n",
      " [  1. 161.   3.]\n",
      " [  1. 167.   0.]\n",
      " [  1. 118.   4.]\n",
      " [  1. 172.   5.]]\n",
      "Shape of X: (20, 3)\n"
     ]
    }
   ],
   "source": [
    "print(\"Controlling the feature matrix X:\")\n",
    "print(X[:5])\n",
    "print(\"Shape of X:\", X.shape)"
   ]
  },
  {
   "cell_type": "markdown",
   "metadata": {},
   "source": [
    "<b>Exercise 3b)</b><br/>"
   ]
  },
  {
   "cell_type": "code",
   "execution_count": 502,
   "metadata": {},
   "outputs": [
    {
     "name": "stdout",
     "output_type": "stream",
     "text": [
      "Optimal OLS parameters beta: [ 9.12808583  0.5119025  14.60743095]\n"
     ]
    }
   ],
   "source": [
    "def OLS_parameters(X, y):\n",
    "    return np.linalg.inv(X.T @ X) @ (X.T @ y)\n",
    "beta = OLS_parameters(X, spending)\n",
    "print(\"Optimal OLS parameters beta:\", beta)"
   ]
  },
  {
   "cell_type": "markdown",
   "metadata": {},
   "source": [
    "The model would then be </br>\n",
    "spending $\\approx$ 9.13 + 0.512 $\\cdot$ income + 14.61 $\\cdot$ children"
   ]
  },
  {
   "cell_type": "markdown",
   "metadata": {},
   "source": [
    "<b>Exercise 4a)</b><br/>"
   ]
  },
  {
   "cell_type": "code",
   "execution_count": 503,
   "metadata": {},
   "outputs": [],
   "source": [
    "n = 100\n",
    "x = np.linspace(-3, 3, n)\n",
    "y = np.exp(-x**2) + 1.5 * np.exp(-(x-2)**2) + np.random.normal(0, 0.1)"
   ]
  },
  {
   "cell_type": "code",
   "execution_count": 504,
   "metadata": {},
   "outputs": [
    {
     "name": "stdout",
     "output_type": "stream",
     "text": [
      "X_test shape: (100, 6)\n",
      "X_test first row: [   1.   -3.    9.  -27.   81. -243.]\n"
     ]
    }
   ],
   "source": [
    "def polynomial_features(x, p):\n",
    "    n = len(x)\n",
    "    X = np.zeros((n, p+1))\n",
    "    X[:, 0] = 1\n",
    "    for power in range(1, p+1):\n",
    "        X[:, power] = x**power\n",
    "    return X\n",
    "\n",
    "X_test = polynomial_features(x, 5)\n",
    "print(\"X_test shape:\", X_test.shape)\n",
    "print(\"X_test first row:\", X_test[0])"
   ]
  },
  {
   "cell_type": "markdown",
   "metadata": {},
   "source": [
    "<b>Exercise 4b)</b><br/>"
   ]
  },
  {
   "cell_type": "code",
   "execution_count": 505,
   "metadata": {},
   "outputs": [
    {
     "name": "stdout",
     "output_type": "stream",
     "text": [
      "Beta coefficients for polynomial degree 5: [ 0.95513768  0.27464654 -0.02326439  0.05342623 -0.0034652  -0.0087781 ]\n"
     ]
    }
   ],
   "source": [
    "beta_test = OLS_parameters(X_test, y)\n",
    "print(\"Beta coefficients for polynomial degree 5:\", beta_test)"
   ]
  },
  {
   "cell_type": "markdown",
   "metadata": {},
   "source": [
    "<b>Exercise 4c)</b><br/>"
   ]
  },
  {
   "cell_type": "code",
   "execution_count": 506,
   "metadata": {},
   "outputs": [
    {
     "name": "stdout",
     "output_type": "stream",
     "text": [
      "Training set size: 80 Test set size: 20\n"
     ]
    }
   ],
   "source": [
    "from sklearn.model_selection import train_test_split\n",
    "X_train, X_test, y_train, y_test = train_test_split(X_test, y, test_size=0.2, random_state=42)\n",
    "print(\"Training set size:\", X_train.shape[0], \"Test set size:\", X_test.shape[0])"
   ]
  },
  {
   "cell_type": "markdown",
   "metadata": {},
   "source": [
    "<b>Exercise 4d)</b><br/>"
   ]
  },
  {
   "cell_type": "code",
   "execution_count": 507,
   "metadata": {},
   "outputs": [
    {
     "name": "stdout",
     "output_type": "stream",
     "text": [
      "Training MSE : 0.013358669300733133\n",
      "Test MSE     : 0.01639319989814892\n"
     ]
    }
   ],
   "source": [
    "beta_train = OLS_parameters(X_train, y_train)\n",
    "\n",
    "# Predictions for training and test sets\n",
    "y_train_pred = X_train @ beta_train\n",
    "y_test_pred  = X_test @ beta_train\n",
    "\n",
    "# Calculate Mean Squared Error for train and test\n",
    "MSE_train = np.mean((y_train - y_train_pred)**2)\n",
    "MSE_test  = np.mean((y_test  - y_test_pred)**2)\n",
    "print(\"Training MSE :\", MSE_train)\n",
    "print(\"Test MSE     :\", MSE_test)"
   ]
  },
  {
   "cell_type": "markdown",
   "metadata": {},
   "source": [
    "<b>Exercise 4e)</b><br/>"
   ]
  },
  {
   "cell_type": "code",
   "execution_count": 508,
   "metadata": {},
   "outputs": [
    {
     "data": {
      "image/png": "[encoded data removed]",
      "text/plain": [
       "<Figure size 600x400 with 1 Axes>"
      ]
     },
     "metadata": {},
     "output_type": "display_data"
    }
   ],
   "source": [
    "import matplotlib.pyplot as plt\n",
    "degrees = range(2, 11)\n",
    "train_errors = []\n",
    "test_errors = []\n",
    "\n",
    "# We'll reuse the same train/test indices for all degrees for consistency\n",
    "idx_all = np.arange(n)\n",
    "idx_train, idx_test = train_test_split(idx_all, test_size=0.2, random_state=42)\n",
    "\n",
    "for p in degrees:\n",
    "    Xp = polynomial_features(x, p)\n",
    "    Xp_train = Xp[idx_train]\n",
    "    Xp_test  = Xp[idx_test]\n",
    "    y_train_split = y[idx_train]\n",
    "    y_test_split  = y[idx_test]\n",
    "    beta_p = OLS_parameters(Xp_train, y_train_split)\n",
    "    train_err = np.mean((y_train_split - Xp_train @ beta_p)**2)\n",
    "    test_err  = np.mean((y_test_split  - Xp_test  @ beta_p)**2)\n",
    "    train_errors.append(train_err)\n",
    "    test_errors.append(test_err)\n",
    "\n",
    "\n",
    "\n",
    "plt.figure(figsize=(6,4))\n",
    "plt.plot(list(degrees), train_errors, marker='o', label='Training MSE')\n",
    "plt.plot(list(degrees), test_errors,  marker='o', label='Test MSE')\n",
    "plt.xlabel(\"Polynomial Degree\")\n",
    "plt.ylabel(\"Mean Squared Error\")\n",
    "plt.legend()\n",
    "plt.title(\"Train vs Test MSE as function of model complexity\")\n",
    "plt.xticks(list(degrees))\n",
    "plt.grid(True)\n",
    "plt.show()"
   ]
  },
  {
   "cell_type": "markdown",
   "metadata": {},
   "source": [
    "<b>Exercise 4f)</b><br/>"
   ]
  },
  {
   "cell_type": "markdown",
   "metadata": {},
   "source": [
    "The training data decreases steadily with polynomial degree, as expected. The test data initially drops quickly, then levels off. Up to degree 10 there is no strong sign of overfitting. This suggests that the data set is relatively smooth and the amount of noise is low. The models of higher degree are not yet “too flexible” for the available sample size, so they still generalize well. The bias is reduced as degree increases, and the variance is not to high to dominate. To observe the “U-shape” that appears in Hastie et al. in test error, we would likely need to extend the experiment to much higher degrees, where overfitting to noise becomes more pronounced."
   ]
  },
  {
   "cell_type": "markdown",
   "metadata": {},
   "source": [
    "<b>Exercise 5a)</b><br/>"
   ]
  },
  {
   "cell_type": "code",
   "execution_count": 510,
   "metadata": {},
   "outputs": [
    {
     "name": "stdout",
     "output_type": "stream",
     "text": [
      "Matrices equal: True\n"
     ]
    }
   ],
   "source": [
    "from sklearn.preprocessing import PolynomialFeatures\n",
    "from sklearn.linear_model import LinearRegression\n",
    "poly = PolynomialFeatures(degree=5, include_bias=True)\n",
    "X_skl = poly.fit_transform(x.reshape(-1, 1))   \n",
    "X_custom = polynomial_features(x, 5)      \n",
    "print(\"Matrices equal:\", np.allclose(X_custom, X_skl))"
   ]
  },
  {
   "cell_type": "markdown",
   "metadata": {},
   "source": [
    "<b>Exercise 5b)</b><br/>"
   ]
  },
  {
   "cell_type": "code",
   "execution_count": 512,
   "metadata": {},
   "outputs": [
    {
     "name": "stdout",
     "output_type": "stream",
     "text": [
      "Our OLS beta coefficients:      [ 0.955138  0.274647 -0.023264  0.053426 -0.003465 -0.008778]\n",
      "Sklearn LinearRegression beta: [ 0.955138  0.274647 -0.023264  0.053426 -0.003465 -0.008778]\n",
      "Difference (our - sklearn):    [ 0. -0. -0.  0.  0. -0.]\n"
     ]
    }
   ],
   "source": [
    "X_new = polynomial_features(x, 5)\n",
    "y_new = y\n",
    "\n",
    "beta_manual = OLS_parameters(X_new, y_new)\n",
    "\n",
    "model = LinearRegression(fit_intercept=False)\n",
    "model.fit(X_new, y_new)\n",
    "beta_sklearn = model.coef_\n",
    "\n",
    "print(\"Our OLS beta coefficients:     \", np.round(beta_manual, 6))\n",
    "print(\"Sklearn LinearRegression beta:\", np.round(beta_sklearn, 6))\n",
    "print(\"Difference (our - sklearn):   \", np.round(beta_manual - beta_sklearn, 12))"
   ]
  }
 ],
 "metadata": {
  "kernelspec": {
   "display_name": "Python 3.9.21 64-bit",
   "language": "python",
   "name": "python3"
  },
  "language_info": {
   "codemirror_mode": {
    "name": "ipython",
    "version": 3
   },
   "file_extension": ".py",
   "mimetype": "text/x-python",
   "name": "python",
   "nbconvert_exporter": "python",
   "pygments_lexer": "ipython3",
   "version": "3.9.21"
  },
  "orig_nbformat": 4,
  "vscode": {
   "interpreter": {
    "hash": "397704579725e15f5c7cb49fe5f0341eb7531c82d19f2c29d197e8b64ab5776b"
   }
  }
 },
 "nbformat": 4,
 "nbformat_minor": 2
}
