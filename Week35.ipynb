{
 "cells": [
  {
   "cell_type": "markdown",
   "metadata": {},
   "source": [
    "<b>Exercise 1a)</b> <br/>\n",
    "We have the expression $f(x) = \\mathbf{a^Tx}$ where $a$ and $x$ are column vectors of length $n$. $f(x)$ is therefore a scalar.<br/>\n",
    "$x$ has dimensions (n, 1)<br/>\n",
    "The result (gradient) inherit transposed $x$ dimentions, (1, n)\n"
   ]
  },
  {
   "cell_type": "markdown",
   "metadata": {},
   "source": [
    "<b>Exercise 1b)</b> <br/>\n",
    "We write $\\mathbf{a^Tx} = \\sum_{j=0}^{n-1}a_{j}x_j$. The partial derivative with respect to $x_i$ is\n",
    "$$\\frac{\\partial}{\\partial x_i} \\left(\\sum_{j=0}^{n-1} a_jx_j\\right) = a_i$$\n",
    "Since only the $i = j$ term contributes, this holds for all components $i$, so the gradient is ($a_1, a_2, ..., a_n$) which is $\\mathbf{a}^T$."
   ]
  },
  {
   "cell_type": "markdown",
   "metadata": {},
   "source": [
    "<b>Exercise 1c)</b> <br/>\n",
    "$\\mathbf{a^TAa} = \\sum_{j=0}^{n-1} \\sum_{i=0}^{n-1} a_jA_{ij}a_i$<br/>\n",
    "For $i=k$: $A_{kj}a_j$ contributes<br/>\n",
    "For $j=k$: $a_iA_{ik}$ contributes<br/>\n",
    "Taking $\\frac{\\partial}{\\partial a_k}$, we get<br/>\n",
    "$$\\frac{\\partial}{\\partial a_k}\\left(\\mathbf{a^TAa}\\right) = \\sum_{j=0}^{n-1}A_{kj}a_j + \\sum_{i=0}^{n-1}a_iA_{ik}$$\n",
    "The first sum is the $k$ th component of $(\\mathbf{A}\\boldsymbol{a})$, and the second sum is the $k$ th component of $(\\boldsymbol{a}^T \\mathbf{A})^T = (\\mathbf{A}^T \\boldsymbol{a})$. In vector form, the gradient is\n",
    "$$\\left(\\mathbf{Aa}\\right)^T + \\left(\\mathbf{A}^T\\mathbf{a}\\right)^T = \\mathbf{a}^T\\mathbf{A}^T + \\mathbf{a}^T\\mathbf{A} = \\mathbf{a}^T\\left(\\mathbf{A}+\\mathbf{A}^T\\right)$$"
   ]
  },
  {
   "cell_type": "markdown",
   "metadata": {},
   "source": [
    "<b>Exercise 2a)</b><br/>"
   ]
  }
 ],
 "metadata": {
  "kernelspec": {
   "display_name": "Python 3.9.21 64-bit",
   "language": "python",
   "name": "python3"
  },
  "language_info": {
   "codemirror_mode": {
    "name": "ipython",
    "version": 3
   },
   "file_extension": ".py",
   "mimetype": "text/x-python",
   "name": "python",
   "nbconvert_exporter": "python",
   "pygments_lexer": "ipython3",
   "version": "3.9.21"
  },
  "orig_nbformat": 4,
  "vscode": {
   "interpreter": {
    "hash": "397704579725e15f5c7cb49fe5f0341eb7531c82d19f2c29d197e8b64ab5776b"
   }
  }
 },
 "nbformat": 4,
 "nbformat_minor": 2
}
